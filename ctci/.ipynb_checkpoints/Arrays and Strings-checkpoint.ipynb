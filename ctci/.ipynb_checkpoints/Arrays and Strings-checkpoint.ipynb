{
 "cells": [
  {
   "cell_type": "markdown",
   "metadata": {},
   "source": [
    "## 1.1 Is Unique:\n",
    "\n",
    "Implement an algorithm to determine if a string has all unique characters."
   ]
  },
  {
   "cell_type": "code",
   "execution_count": 7,
   "metadata": {},
   "outputs": [],
   "source": [
    "# Use a set\n",
    "def is_unique(s):\n",
    "    h=set()\n",
    "    \n",
    "    for c in s:\n",
    "        if c in h:\n",
    "            return False\n",
    "        else:\n",
    "            h.add(c)\n",
    "    \n",
    "    return True"
   ]
  },
  {
   "cell_type": "code",
   "execution_count": 9,
   "metadata": {},
   "outputs": [
    {
     "data": {
      "text/plain": [
       "False"
      ]
     },
     "execution_count": 9,
     "metadata": {},
     "output_type": "execute_result"
    }
   ],
   "source": [
    "is_unique('shesy')"
   ]
  },
  {
   "cell_type": "markdown",
   "metadata": {},
   "source": [
    "## 1.2 Check Permutation\n",
    "Given two strings, write a method to determine if one is a permutation of the other."
   ]
  },
  {
   "cell_type": "code",
   "execution_count": 18,
   "metadata": {},
   "outputs": [],
   "source": [
    "def is_permutation(s1, s2):\n",
    "    if(len(s1) != len(s2) or (sorted(s1)) != (sorted(s2))):\n",
    "        print(sorted(s1))\n",
    "        print(sorted(s2))\n",
    "        return False\n",
    "    else:\n",
    "        return True"
   ]
  },
  {
   "cell_type": "code",
   "execution_count": 19,
   "metadata": {},
   "outputs": [
    {
     "data": {
      "text/plain": [
       "True"
      ]
     },
     "execution_count": 19,
     "metadata": {},
     "output_type": "execute_result"
    }
   ],
   "source": [
    "is_permutation('sam', 'mas')"
   ]
  },
  {
   "cell_type": "markdown",
   "metadata": {},
   "source": [
    "## 1.4 Palindrome Permutation\n",
    "Given a string, check to see if it is a permutation of a palindrome "
   ]
  },
  {
   "cell_type": "code",
   "execution_count": 53,
   "metadata": {},
   "outputs": [],
   "source": [
    "def is_palindrome_permutation(s):\n",
    "    is_palindrome=False\n",
    "    char_map={}\n",
    "    s=list(s)\n",
    "    s.remove(' ')\n",
    "    \n",
    "    for c in s:\n",
    "        if c not in char_map:\n",
    "            char_map[c]=1\n",
    "        else:\n",
    "            char_map[c]+=1\n",
    "    \n",
    "    if(len(s)%2 == 0 and count_odds(char_map.values()) == 0):\n",
    "        return True\n",
    "        \n",
    "    elif(len(s)%2 != 0 and count_odds(char_map.values()) == 1):\n",
    "        return True\n",
    "        \n",
    "            \n",
    "    \n",
    "    return is_palindrome\n",
    "    "
   ]
  },
  {
   "cell_type": "code",
   "execution_count": 56,
   "metadata": {},
   "outputs": [],
   "source": [
    "def count_odds(lst):\n",
    "    c=0\n",
    "    for l in lst:\n",
    "        if(c%2 != 0):\n",
    "            c+=1\n",
    "    return c"
   ]
  },
  {
   "cell_type": "code",
   "execution_count": 59,
   "metadata": {},
   "outputs": [
    {
     "data": {
      "text/plain": [
       "True"
      ]
     },
     "execution_count": 59,
     "metadata": {},
     "output_type": "execute_result"
    }
   ],
   "source": [
    "is_palindrome_permutation('maa y      m ')"
   ]
  },
  {
   "cell_type": "code",
   "execution_count": null,
   "metadata": {},
   "outputs": [],
   "source": []
  },
  {
   "cell_type": "code",
   "execution_count": null,
   "metadata": {},
   "outputs": [],
   "source": []
  }
 ],
 "metadata": {
  "kernelspec": {
   "display_name": "Python 3",
   "language": "python",
   "name": "python3"
  },
  "language_info": {
   "codemirror_mode": {
    "name": "ipython",
    "version": 3
   },
   "file_extension": ".py",
   "mimetype": "text/x-python",
   "name": "python",
   "nbconvert_exporter": "python",
   "pygments_lexer": "ipython3",
   "version": "3.7.3"
  }
 },
 "nbformat": 4,
 "nbformat_minor": 2
}
